{
  "nbformat": 4,
  "nbformat_minor": 0,
  "metadata": {
    "colab": {
      "name": "Копия блокнота \"dz2.ipynb\"",
      "provenance": [],
      "collapsed_sections": [
        "RLiqdOHl-QZD"
      ],
      "include_colab_link": true
    },
    "kernelspec": {
      "display_name": "Python 3",
      "language": "python",
      "name": "python3"
    },
    "language_info": {
      "codemirror_mode": {
        "name": "ipython",
        "version": 3
      },
      "file_extension": ".py",
      "mimetype": "text/x-python",
      "name": "python",
      "nbconvert_exporter": "python",
      "pygments_lexer": "ipython3",
      "version": "3.9.6"
    },
    "toc": {
      "base_numbering": 1,
      "nav_menu": {},
      "number_sections": true,
      "sideBar": true,
      "skip_h1_title": false,
      "title_cell": "Table of Contents",
      "title_sidebar": "Contents",
      "toc_cell": false,
      "toc_position": {},
      "toc_section_display": true,
      "toc_window_display": false
    },
    "varInspector": {
      "cols": {
        "lenName": 16,
        "lenType": 16,
        "lenVar": 40
      },
      "kernels_config": {
        "python": {
          "delete_cmd_postfix": "",
          "delete_cmd_prefix": "del ",
          "library": "var_list.py",
          "varRefreshCmd": "print(var_dic_list())"
        },
        "r": {
          "delete_cmd_postfix": ") ",
          "delete_cmd_prefix": "rm(",
          "library": "var_list.r",
          "varRefreshCmd": "cat(var_dic_list()) "
        }
      },
      "types_to_exclude": [
        "module",
        "function",
        "builtin_function_or_method",
        "instance",
        "_Feature"
      ],
      "window_display": false
    }
  },
  "cells": [
    {
      "cell_type": "markdown",
      "metadata": {
        "id": "view-in-github",
        "colab_type": "text"
      },
      "source": [
        "<a href=\"https://colab.research.google.com/github/dtsybulskii/EigenValues/blob/main/dz2_ipynb.ipynb\" target=\"_parent\"><img src=\"https://colab.research.google.com/assets/colab-badge.svg\" alt=\"Open In Colab\"/></a>"
      ]
    },
    {
      "cell_type": "markdown",
      "metadata": {
        "id": "gYCrg9gh-QYR"
      },
      "source": [
        "# <div style=\"float: right\">\n",
        "    **Школа Анализа Данных** — https://yandexdataschool.ru\n",
        "\n",
        "    <div style=\"margin-top: 20px\">\n",
        "        <img src=\"https://yastatic.net/yandex-shad2-www/_/PrcFTNsjcxFOmIVCu7Vzrm4sZFM.svg\" width=\"300px\">\n",
        "    </div>\n",
        "</div>"
      ]
    },
    {
      "cell_type": "markdown",
      "metadata": {
        "deletable": false,
        "editable": false,
        "id": "qvZ6Tjh6-QYT",
        "nbgrader": {
          "checksum": "157067aa4fa50d6fe0cd8522cc3e6f6f",
          "grade": false,
          "grade_id": "cell-e277383e5f33df0d",
          "locked": true,
          "schema_version": 1,
          "solution": false
        }
      },
      "source": [
        "# Лабораторная работа 1"
      ]
    },
    {
      "cell_type": "markdown",
      "metadata": {
        "deletable": false,
        "editable": false,
        "id": "tVEIIRPb-QYU",
        "nbgrader": {
          "checksum": "31910e3cbd24ea775d5b808ba4e879b0",
          "grade": false,
          "grade_id": "cell-f91a0b1caae93ec9",
          "locked": true,
          "schema_version": 1,
          "solution": false
        }
      },
      "source": [
        "Не забываем загрузить библиотеки:"
      ]
    },
    {
      "cell_type": "markdown",
      "metadata": {
        "deletable": false,
        "editable": false,
        "id": "hgjpehEL-QYa",
        "nbgrader": {
          "checksum": "d212709cdf98e4a3514b056fabaf8540",
          "grade": false,
          "grade_id": "cell-316a881b1f62686d",
          "locked": true,
          "schema_version": 1,
          "solution": false
        }
      },
      "source": [
        "## Часть 1. Особенности LU-разложения\n",
        "\n",
        "С точки зрения математики матричные разложения являются точными: произведение сомножителей всегда равняется исходной матрицы $A$. К сожалению, на практике этом часто мешает вычислительная погрешность. \n",
        "\n",
        "Для $LU$ разложения l2-норма ошибки ошибки $||\\delta A|| = ||A - LU||$ удовлетворяет следующей оценке:\n",
        "\n",
        "$$||\\delta A|| \\leqslant ||L|| \\cdot ||U|| \\cdot O(\\varepsilon_{machine})$$\n",
        "\n",
        "А нормы $L$ и $U$ могут быть совсем нехорошими."
      ]
    },
    {
      "cell_type": "code",
      "metadata": {
        "id": "8MmfyaTp-QYV"
      },
      "source": [
        "# Библиотека для работы с матрицами\n",
        "import numpy as np \n",
        "\n",
        "# Алгоритмы линейной алгебры\n",
        "import scipy as scipy\n",
        "import scipy.linalg as sla\n",
        "\n",
        "# Графическая библиотека\n",
        "import matplotlib.pyplot as plt\n",
        "\n",
        "# Библиотека для измерения времени\n",
        "import timeit\n",
        "\n",
        "# Позволяет отрисовывать графики и изображения прямо в ноутбуке, а не в отдельном окне. Жизненно важная вещь!\n",
        "%matplotlib inline"
      ],
      "execution_count": null,
      "outputs": []
    },
    {
      "cell_type": "markdown",
      "metadata": {
        "deletable": false,
        "editable": false,
        "id": "PGRfWfpl-QYb",
        "nbgrader": {
          "checksum": "47b5e09f943db4037603ba13e4457dd8",
          "grade": false,
          "grade_id": "cell-93e7463ac9114ac9",
          "locked": true,
          "schema_version": 1,
          "solution": false
        }
      },
      "source": [
        "**Задание 1.1 (1 балл)** Рассмотрим следующее LU-разложение:\n",
        "\n",
        "$$\\begin{pmatrix}\n",
        "10^{-20} & 1\\\\\n",
        "1 & 1\n",
        "\\end{pmatrix} = \\begin{pmatrix}\n",
        "1 & 0\\\\\n",
        "10^{20} & 1\n",
        "\\end{pmatrix}\\cdot\\begin{pmatrix}\n",
        "10^{-20} & 1\\\\\n",
        "0 & 1 - 10^{20}\n",
        "\\end{pmatrix}$$\n",
        "\n",
        "Перемножьте полученные матрицы $L$ и $U$. А теперь перемножьте такие же матрицы, только после всех единиц поставьте десятичные точки. Изменился ли ответ? Как вам кажется, почему?"
      ]
    },
    {
      "cell_type": "markdown",
      "metadata": {
        "pycharm": {
          "name": "#%% md\n"
        },
        "id": "hvqA6KWafao8"
      },
      "source": [
        "#### Без точки:"
      ]
    },
    {
      "cell_type": "code",
      "metadata": {
        "deletable": false,
        "id": "N4Kpl3Gl-QYc",
        "nbgrader": {
          "checksum": "7c36024bdebab937b73dd1def03fc6a9",
          "grade": true,
          "grade_id": "cell-9f8ed3b1ca05924b",
          "locked": false,
          "points": 1,
          "schema_version": 1,
          "solution": true
        },
        "colab": {
          "base_uri": "https://localhost:8080/"
        },
        "outputId": "2a061b9f-828c-435a-f1fd-130bc2b2e6fa"
      },
      "source": [
        "L = np.array([[1,0], [10 ** 20, 1]])\n",
        "U = np.array([[10 ** (-20),1], [0, 1 - 10 ** 20]])\n",
        "np.dot(L, U)"
      ],
      "execution_count": null,
      "outputs": [
        {
          "output_type": "execute_result",
          "data": {
            "text/plain": [
              "array([[1e-20, 1],\n",
              "       [1.0, 1]], dtype=object)"
            ]
          },
          "metadata": {},
          "execution_count": 2
        }
      ]
    },
    {
      "cell_type": "markdown",
      "metadata": {
        "pycharm": {
          "name": "#%% md\n"
        },
        "id": "IZBnCPcwfao9"
      },
      "source": [
        "#### С точкой:"
      ]
    },
    {
      "cell_type": "code",
      "metadata": {
        "pycharm": {
          "name": "#%%\n"
        },
        "colab": {
          "base_uri": "https://localhost:8080/"
        },
        "id": "s_GY8KK-fao9",
        "outputId": "28b97e71-6a5c-494e-b2bc-4704cb925cf0"
      },
      "source": [
        "L = np.array([[1.,0], [10 ** 20, 1.]])\n",
        "U = np.array([[10 ** (-20),1.], [0, 1. - 10 ** 20]])\n",
        "np.dot(L, U)"
      ],
      "execution_count": null,
      "outputs": [
        {
          "output_type": "execute_result",
          "data": {
            "text/plain": [
              "array([[1e-20, 1.0],\n",
              "       [1.0, 0.0]], dtype=object)"
            ]
          },
          "metadata": {},
          "execution_count": 3
        }
      ]
    },
    {
      "cell_type": "markdown",
      "metadata": {
        "pycharm": {
          "name": "#%% md\n"
        },
        "id": "1s61gcoqfao-"
      },
      "source": [
        "#### Вывод: во втором случае исчезла единица A [1,1]. Предположение: проблема при изменении типов, в первом случаее элементы в L и U имеют тип int, float соответсвенно и для них вызывается функция перемножения целых чисел и с плавающей точкой, которая возможно хорошо оптимизирована в питоне . Во втором же случае по честному перемножаются float и float по определенному стандарту (для питона это вроде - IEEE 754) и скорее всего ввозникают проблемы с большой арифметикой."
      ]
    },
    {
      "cell_type": "markdown",
      "metadata": {
        "deletable": false,
        "editable": false,
        "id": "0FrwAuf--QYf",
        "nbgrader": {
          "checksum": "4b2d60c5492b0a8ca5f742a95304499f",
          "grade": false,
          "grade_id": "cell-c974d99ae2a01563",
          "locked": true,
          "schema_version": 1,
          "solution": false
        }
      },
      "source": [
        "**Выход: LU-разложение с выбором главного элемента (по столбцу)**\n",
        "\n",
        "Каждый раз ищем максимум в столбце и переставляем соответствующую строку наверх.\n",
        "\n",
        "$$\\begin{pmatrix}\n",
        "b_{11} & \\dots & b_{1i} & b_{1,i+1} & \\dots & b_{1n}\\\\\n",
        " & \\ddots & \\vdots & \\vdots & & \\vdots\\\\\n",
        " & & \\color{blue}{b_{ii}} & \\color{blue}{b_{i,i+1}} & \\dots & \\color{blue}{b_{in}} \\\\\n",
        " & & b_{i+1,i} & b_{i+1,i+1} & \\dots & b_{i+1,n}\\\\\n",
        " & & \\vdots & \\vdots &  & \\vdots \\\\\n",
        " & & \\color{green}{b_{ji}} & \\color{green}{b_{j,i+1}} & \\dots & \\color{green}{b_{jn}} \\\\\n",
        " & & \\vdots & \\vdots & & \\vdots\\\\\n",
        "\\end{pmatrix}\\longrightarrow\n",
        "\\begin{pmatrix}\n",
        "b_{11} & \\dots & b_{1i} & b_{1,i+1} & \\dots & b_{1n}\\\\\n",
        " & \\ddots & \\vdots & \\vdots & & \\vdots\\\\\n",
        " & & \\color{green}{b_{ji}} & \\color{green}{b_{j,i+1}} & \\dots & \\color{green}{b_{jn}} \\\\\n",
        " & & b_{i+1,i} & b_{i+1,i+1} & \\dots & b_{i+1,n}\\\\\n",
        " & & \\vdots & \\vdots &  & \\vdots \\\\\n",
        " & & \\color{blue}{b_{ii}} & \\color{blue}{b_{i,i+1}} & \\dots & \\color{blue}{b_{in}} \\\\\n",
        " & & \\vdots & \\vdots & & \\vdots\\\\\n",
        "\\end{pmatrix}\\longrightarrow$$\n",
        "$$\\longrightarrow\\begin{pmatrix}\n",
        "b_{11} & \\dots & b_{1i} & b_{1,i+1} & \\dots & b_{1n}\\\\\n",
        " & \\ddots & \\vdots & \\vdots & & \\vdots\\\\\n",
        " & & \\color{green}{b_{ji}} & \\color{green}{b_{j,i+1}} & \\dots & \\color{green}{b_{jn}} \\\\\n",
        " & & 0 & b'_{i+1,i+1} & \\dots & b'_{i+1,n}\\\\\n",
        " & & \\vdots & \\vdots &  & \\vdots \\\\\n",
        " & & 0 & b'_{i,i+1} & \\dots & b'_{in} \\\\\n",
        " & & \\vdots & \\vdots & & \\vdots\n",
        "\\end{pmatrix}$$\n",
        "\n",
        "Надо сказать, что примерно так вы все и решали системы на первом курсе университета! Именно наибольший, а не первый ненулевой элемент столбца берётся потому, что чем больше число - тем меньшие погрешности потенциально вносит деление на него.\n",
        "\n",
        "Что при этом происходит? Перестановка строк матрицы равносильна умножению её слева на матрицу соответствующей перестановки. Таким образом, мы получаем равенство\n",
        "\n",
        "$$L_nP_nL_{n-1}P_{n-1}\\ldots L_2P_2L_1P_1 A = U\\qquad\\qquad(1)$$\n",
        "\n",
        "где $L_1,\\ldots,L_n$ - некоторые нижнетреугольные матрицы.\n",
        "\n",
        "**Вопрос:** Ну, и где здесь матрица $L$?!\n",
        "\n",
        "**Ответ:** Введём новые матрицы\n",
        "\n",
        "\\begin{align*}\n",
        "L'_n &= L_n\\\\\n",
        "L'_{n-1} &= P_nL_nP_{n-1}\\\\\n",
        "L'_{n-2} &= P_nP_{n-1}L_{n-1}P_n^{-1}P_{n-1}^{-1}\\\\\n",
        "&\\ldots\\\\\n",
        "L'_1 &= P_nP_{n-1}\\ldots P_2L_1P_2^{-1}\\ldots P_{n-1}^{-1}P_n^{-1}\n",
        "\\end{align*}\n",
        "\n",
        "**Упражнение.** Матрицы $L'_i$ тоже нижнетреугольные!\n",
        "\n",
        "Тогда левая часть (1) перепишется в виде\n",
        "\n",
        "$$\\underbrace{L'_nL'_{n-1}\\ldots L'_1}_{:=L^{-1}}\\underbrace{P_nP_{n-1}\\ldots P_1}_{:=P^{-1}}\\cdot A$$\n",
        "\n",
        "**Итог:** разложение вида\n",
        "$$A = PLU$$\n",
        "где $P$ - матрица перестановки.\n",
        "\n",
        "Функция `scipy.linalg.lu` в Питоне находит именно такое разложение!\n",
        "\n",
        "Все элементы $L$ не превосходят $1$, так что $||L||]\\leqslant 1$. При этом\n",
        "$$||\\Delta A|| \\leqslant ||A||\\cdot O(\\rho \\varepsilon_{machine}),$$\n",
        "где\n",
        "$$\\rho = \\frac{\\max_{i,j}|u_{ij}|}{\\max_{i,j}|a_{ij}|}$$\n",
        "Это число называется *фактором роста матрицы*.\n",
        "\n",
        "Но что, если это отношение велико?\n",
        "\n",
        "**Задание 1.2 (1 балл)** Сгенерируйте матрицу $500\\times500$, имеющую вид\n",
        "\n",
        "$$\\begin{pmatrix}\n",
        "1 & 0 & 0 & \\cdots & 0 & 0 & 1\\\\\n",
        "-1 & 1 & 0 &  &  & 0 & 1\\\\\n",
        "-1 & -1 & 1 & 0  &  & 0 & 1\\\\\n",
        "\\vdots & & \\ddots & \\ddots  & \\ddots & \\vdots & \\vdots \\\\\n",
        "-1 & -1 & -1 & \\ddots & 1 & 0 & 1\\\\\n",
        "-1 & -1 & -1 &  & -1 & 1 & 1\\\\\n",
        "-1 & -1 & -1 & \\cdots & -1 & -1 & 1\n",
        "\\end{pmatrix}$$\n",
        "\n",
        "Например, вы можете сгенерировать сначала нулевую матрицу нужного размера, а потом заполнить её клетки правильными числами.\n",
        "\n",
        "Найдите её PLU-разложение и QR-разложение. Убедитесь, что $P = E$. Вычислите $||A - LU||_2$ и $||A - QR||_2$. Чему равен фактор роста матрицы $A$?"
      ]
    },
    {
      "cell_type": "code",
      "metadata": {
        "pycharm": {
          "name": "#%%\n"
        },
        "colab": {
          "base_uri": "https://localhost:8080/"
        },
        "id": "-dJ_9Swnfao-",
        "outputId": "41a56089-9df9-4374-bb4f-02470373942e"
      },
      "source": [
        "n = 500\n",
        "A  = np.eye(n) - np.tril(np.ones((n,n)), k = -1)\n",
        "A[:,n-1] = 1\n",
        "print('A:\\n',A)"
      ],
      "execution_count": null,
      "outputs": [
        {
          "output_type": "stream",
          "name": "stdout",
          "text": [
            "A:\n",
            " [[ 1.  0.  0. ...  0.  0.  1.]\n",
            " [-1.  1.  0. ...  0.  0.  1.]\n",
            " [-1. -1.  1. ...  0.  0.  1.]\n",
            " ...\n",
            " [-1. -1. -1. ...  1.  0.  1.]\n",
            " [-1. -1. -1. ... -1.  1.  1.]\n",
            " [-1. -1. -1. ... -1. -1.  1.]]\n"
          ]
        }
      ]
    },
    {
      "cell_type": "markdown",
      "metadata": {
        "pycharm": {
          "name": "#%% md\n"
        },
        "id": "MnReTqeDfao_"
      },
      "source": [
        "### LU:"
      ]
    },
    {
      "cell_type": "code",
      "metadata": {
        "pycharm": {
          "name": "#%%\n"
        },
        "id": "Uei54T7Vfao_"
      },
      "source": [
        "P, L, U = scipy.linalg.lu(A)"
      ],
      "execution_count": null,
      "outputs": []
    },
    {
      "cell_type": "code",
      "metadata": {
        "pycharm": {
          "name": "#%%\n"
        },
        "colab": {
          "base_uri": "https://localhost:8080/"
        },
        "id": "odwn3L_ofao_",
        "outputId": "56a1a46b-d04c-4182-8d20-6336f70eb5d8"
      },
      "source": [
        "print('P = Id:',np.allclose(P,np.eye(n)))\n",
        "print('error(2-norm):', np.linalg.norm(A - np.dot(L,U),ord = 2))\n",
        "print('rho:',np.max(U)/np.max(A))"
      ],
      "execution_count": null,
      "outputs": [
        {
          "output_type": "stream",
          "name": "stdout",
          "text": [
            "P = Id: True\n",
            "error(2-norm): 2.5329519520662918e+76\n",
            "rho: 1.636695303948071e+150\n"
          ]
        }
      ]
    },
    {
      "cell_type": "markdown",
      "metadata": {
        "pycharm": {
          "name": "#%% md\n"
        },
        "id": "RgGbHGOFfao_"
      },
      "source": [
        "### QR:"
      ]
    },
    {
      "cell_type": "code",
      "metadata": {
        "pycharm": {
          "name": "#%%\n"
        },
        "colab": {
          "base_uri": "https://localhost:8080/"
        },
        "id": "pTOcMAB5fao_",
        "outputId": "3512ce3b-2abd-4e0e-dbfc-b30af5a124fe"
      },
      "source": [
        "Q, R = scipy.linalg.qr(A)\n",
        "print('error(2-norm):', np.linalg.norm(A - np.dot(Q,R),ord = 2))"
      ],
      "execution_count": null,
      "outputs": [
        {
          "output_type": "stream",
          "name": "stdout",
          "text": [
            "error(2-norm): 7.72570578611165e-13\n"
          ]
        }
      ]
    },
    {
      "cell_type": "markdown",
      "metadata": {
        "id": "CbvPRHZQfapA"
      },
      "source": [
        "К счастью, на практике так редко очень бывает (чёрт его знает почему). Тем не менее, QR-разложение всё-таки лучше. Теоретическая оценка для ошибки QR-разложения имеет вид\n",
        "\n",
        "$$||A - QR||_2 \\leqslant ||A||_2\\cdot O(\\varepsilon_{machine})$$\n",
        "\n",
        "**Задание 1.3 (1,5 балла)** Рассмотрим *матрицу Паскаля* $S_n = \\left(C_{i + j}^i\\right)$ ($i,j = 0,\\ldots,n-1$).\n",
        "\n",
        "Каково её LU-разложение? Выведите формулы для матриц L и U и приведите краткое обоснование прямо в ноутбуке. Не пользуйтесь функцией `scipy.linalg.lu`, чтобы его \"угадать\": матрица P будет отлична от единичной, и вы получите не то, что хотели.\n",
        "\n",
        "Каков её определитель?"
      ]
    },
    {
      "cell_type": "markdown",
      "metadata": {
        "pycharm": {
          "name": "#%% md\n"
        },
        "id": "DaV3CFEKfapA"
      },
      "source": [
        "Решение:\n",
        "По определению матрица Паскаля - диагональна. Как известно любая диагональная матрица с ненулевыми минорами имеет разложение $LDL^T$, где $L$ - нижнетреугольная c положительными элементами на диагонали, $D$ - диагональная матрица с $+1,-1$ на диагонали которые определяются знаками миноров матрицы $S_n$. Далее если посмотреть на три первых минора, то можно заметить что все они положительны и более того одинаковы и равны 1, поэтому можно выдвинуть следующую гипотезу о том что все миноры равны 1, тоесть матрица $S_n$ является положительно опредленной из чего можно сделать вывод, что в таком случае $D$ - единичная матрица. В итоге наши рассуждения предагают искать матрицу $S_n$ в виде $LL^T$. Далее для определения структуры матрицы L, можно посмотреть n = 1,2,3 и легко восстановить ее для этих случаев и тем самым получить некую \"интуицию\" об общем случае, например что диагональ и первый столбец должен состоять из единиц, а внутри должны присутствовать биномиальные коэф. Используя эти рассуждения получаем общий вид матрицы L:\n",
        "\\begin{equation}\n",
        "l_{ij} = C_{i}^{j}\\quad \\textrm{при} \\: j \\leq i\n",
        "\\end{equation}\n",
        "А искомая $U = L^T$"
      ]
    },
    {
      "cell_type": "markdown",
      "metadata": {
        "deletable": false,
        "id": "WFiHXa81-QYk",
        "nbgrader": {
          "checksum": "2f71c8425045bd533b63c64bb3d9f3c9",
          "grade": true,
          "grade_id": "cell-39f7a6a10e4b7aac",
          "locked": false,
          "points": 1,
          "schema_version": 1,
          "solution": true
        }
      },
      "source": [
        ""
      ]
    },
    {
      "cell_type": "markdown",
      "metadata": {
        "deletable": false,
        "editable": false,
        "id": "zhpanAj6-QYl",
        "nbgrader": {
          "checksum": "2ff2fcfbdc404b849559da6113b31052",
          "grade": false,
          "grade_id": "cell-1597fdf865fccdfe",
          "locked": true,
          "schema_version": 1,
          "solution": false
        }
      },
      "source": [
        "Напишите функцию `my_pascal(n)`, генерирующую матрицу Паскаля размера $n\\times n$."
      ]
    },
    {
      "cell_type": "code",
      "metadata": {
        "deletable": false,
        "id": "RFsmSD7R-QYl",
        "nbgrader": {
          "checksum": "165252b6bbb7e9cce21be693255b3fcc",
          "grade": false,
          "grade_id": "cell-801cba70cd0a3985",
          "locked": false,
          "schema_version": 1,
          "solution": true
        },
        "colab": {
          "base_uri": "https://localhost:8080/"
        },
        "outputId": "ac5906e1-6fa9-4053-9693-f088dcd9bdb5"
      },
      "source": [
        "import math\n",
        "def my_pascal(n):\n",
        "    S = np.zeros((n,n))\n",
        "    for i in range(n):\n",
        "        for j in range(i,n):\n",
        "            S[j,i] = S[i,j] = math.factorial(i+j)/math.factorial(i)/math.factorial(j)\n",
        "    return S\n",
        "my_pascal(5)"
      ],
      "execution_count": null,
      "outputs": [
        {
          "output_type": "execute_result",
          "data": {
            "text/plain": [
              "array([[ 1.,  1.,  1.,  1.,  1.],\n",
              "       [ 1.,  2.,  3.,  4.,  5.],\n",
              "       [ 1.,  3.,  6., 10., 15.],\n",
              "       [ 1.,  4., 10., 20., 35.],\n",
              "       [ 1.,  5., 15., 35., 70.]])"
            ]
          },
          "metadata": {},
          "execution_count": 20
        }
      ]
    },
    {
      "cell_type": "code",
      "metadata": {
        "deletable": false,
        "editable": false,
        "id": "datlT6Lg-QY0",
        "nbgrader": {
          "checksum": "39bdf5f0eed6359f0c50deb213c83c53",
          "grade": true,
          "grade_id": "cell-19621f7832a78eb0",
          "locked": true,
          "points": 0,
          "schema_version": 1,
          "solution": false
        }
      },
      "source": [
        "A_test = my_pascal(5)"
      ],
      "execution_count": null,
      "outputs": []
    },
    {
      "cell_type": "markdown",
      "metadata": {
        "deletable": false,
        "editable": false,
        "id": "bjwQKHgZ-QY3",
        "nbgrader": {
          "checksum": "c509683b4e73b602c5d117c19819c874",
          "grade": false,
          "grade_id": "cell-6ceff832ea0107e3",
          "locked": true,
          "schema_version": 1,
          "solution": false
        }
      },
      "source": [
        "Найдите норму разности $||A - PLU||_2$. Не такая уж и большая, правда?"
      ]
    },
    {
      "cell_type": "code",
      "metadata": {
        "id": "GnOjh5Pz-QY4",
        "colab": {
          "base_uri": "https://localhost:8080/"
        },
        "outputId": "a401c38d-cb00-4cb9-f149-96e676bf4b58"
      },
      "source": [
        "P, L, U = scipy.linalg.lu(A_test)\n",
        "scipy.linalg.norm(A_test-np.dot(np.dot(P,L),U),ord  = 2)"
      ],
      "execution_count": null,
      "outputs": [
        {
          "output_type": "execute_result",
          "data": {
            "text/plain": [
              "0.0"
            ]
          },
          "metadata": {},
          "execution_count": 23
        }
      ]
    },
    {
      "cell_type": "markdown",
      "metadata": {
        "deletable": false,
        "editable": false,
        "id": "HbNLOIH1-QY7",
        "nbgrader": {
          "checksum": "e0a9749ab740f67a83897842609e7765",
          "grade": false,
          "grade_id": "cell-c9e74a1c2ff823f0",
          "locked": true,
          "schema_version": 1,
          "solution": false
        }
      },
      "source": [
        "Теперь попросим компьютер вычислить определитель матрицы Паскаля $30\\times30$ и решить простенькую систему уравнений:"
      ]
    },
    {
      "cell_type": "code",
      "metadata": {
        "deletable": false,
        "editable": false,
        "id": "RhJw8Mh4-QY7",
        "nbgrader": {
          "checksum": "80e4b0c3b36641894c8dbffc76ddc0d6",
          "grade": false,
          "grade_id": "cell-dde6b024c931eedc",
          "locked": true,
          "schema_version": 1,
          "solution": false
        },
        "colab": {
          "base_uri": "https://localhost:8080/"
        },
        "outputId": "237397f6-95d6-42cb-9c39-cf52431ebd8b"
      },
      "source": [
        "A = my_pascal(30)\n",
        "print('determinant: ', sla.det(A))\n",
        "\n",
        "# Try to solve a linear system\n",
        "x = np.ones(30)\n",
        "b = A.dot(x).reshape(30, 1) # для linalg.solve из scipy\n",
        "x1 = sla.solve(A, b)\n",
        "print('residual: ', sla.norm(x1 - x))"
      ],
      "execution_count": null,
      "outputs": [
        {
          "output_type": "stream",
          "name": "stdout",
          "text": [
            "determinant:  2.4794776250900227e+49\n",
            "residual:  170849299.4107653\n"
          ]
        },
        {
          "output_type": "stream",
          "name": "stderr",
          "text": [
            "/usr/local/lib/python3.7/dist-packages/ipykernel_launcher.py:7: LinAlgWarning: Ill-conditioned matrix (rcond=2.10719e-25): result may not be accurate.\n",
            "  import sys\n"
          ]
        }
      ]
    },
    {
      "cell_type": "markdown",
      "metadata": {
        "deletable": false,
        "editable": false,
        "id": "QV9qlNqE-QY-",
        "nbgrader": {
          "checksum": "9ec32e8d5b8364b92abc589b183ca473",
          "grade": false,
          "grade_id": "cell-e15dca83c5201f03",
          "locked": true,
          "schema_version": 1,
          "solution": false
        }
      },
      "source": [
        "Так себе ошибка. Теперь попробуем сделать это с помощью QR-разложения. Станет ли лучше?"
      ]
    },
    {
      "cell_type": "code",
      "metadata": {
        "deletable": false,
        "editable": false,
        "id": "d7_S_HZS-QY_",
        "nbgrader": {
          "checksum": "5d231ed11037252907d4c7d7d298df11",
          "grade": false,
          "grade_id": "cell-e8c8bca56b68a1e8",
          "locked": true,
          "schema_version": 1,
          "solution": false
        },
        "colab": {
          "base_uri": "https://localhost:8080/"
        },
        "outputId": "e436fed2-5171-4fc6-8f19-2569dcc16246"
      },
      "source": [
        "Q, R = sla.qr(A)\n",
        "x2 = sla.solve_triangular(R, Q.T.dot(b))\n",
        "print('residual: ', sla.norm(x2 - x))\n"
      ],
      "execution_count": null,
      "outputs": [
        {
          "output_type": "stream",
          "name": "stdout",
          "text": [
            "residual:  1036027366.0210774\n"
          ]
        }
      ]
    },
    {
      "cell_type": "markdown",
      "metadata": {
        "deletable": false,
        "editable": false,
        "id": "HTY9p92n-QZC",
        "nbgrader": {
          "checksum": "220451e2a19ad8c2a9d3673a1b9c678e",
          "grade": false,
          "grade_id": "cell-a1a17aa049ac8ec0",
          "locked": true,
          "schema_version": 1,
          "solution": false
        }
      },
      "source": [
        "Объясните полученные неприятные результаты."
      ]
    },
    {
      "cell_type": "markdown",
      "metadata": {
        "deletable": false,
        "editable": false,
        "id": "RLiqdOHl-QZD",
        "nbgrader": {
          "checksum": "dc14b07b750e1a57ac71c02cb752eec3",
          "grade": false,
          "grade_id": "cell-a4f00cee552ae171",
          "locked": true,
          "schema_version": 1,
          "solution": false
        }
      },
      "source": [
        "#### Вычислительная ошибка накопилась из-за большого числа обусловленности, как у матрицы A так и у R.\n"
      ]
    },
    {
      "cell_type": "code",
      "metadata": {
        "pycharm": {
          "name": "#%%\n"
        },
        "colab": {
          "base_uri": "https://localhost:8080/"
        },
        "id": "7h84KWdEfapC",
        "outputId": "def4c92f-b6f0-4ab2-e835-ea6dfd787900"
      },
      "source": [
        "print('cond A =', np.linalg.cond(A))\n",
        "print('cond R =', np.linalg.cond(R))"
      ],
      "execution_count": null,
      "outputs": [
        {
          "output_type": "stream",
          "name": "stdout",
          "text": [
            "cond A = 3.940994367801505e+24\n",
            "cond R = 3.317260184105894e+24\n"
          ]
        }
      ]
    },
    {
      "cell_type": "markdown",
      "metadata": {
        "id": "Bs9oaoy_fapC"
      },
      "source": [
        "## Часть 2. Решение СЛАУ с положительно определённой матрицей\n",
        "\n",
        "**Задание 2.1. Какие же методы использовать? (3 балла)**\n",
        "\n",
        "Реализуйте несколько алгоритмов решения СЛАУ $Ax = b$, где $A = A^T$, $A \\geqslant 0$ с матричной правой частью $b$.\n",
        "\n",
        "1. **Наивный способ**: $x = A^{-1}b$;\n",
        "\n",
        "2. **Стандартный способ**: с помощью процедуры `solve` модуля `scipy.linalg`;\n",
        "\n",
        "3. **Разложение Холецкого**: с помощью разложения Холецкого для матрицы $A$ и последующего решения двух СЛАУ с треугольными матрицами;\n",
        "\n",
        "4. **Разложение Холецкого с процедурами scipy**: с помощью разложения Холецкого для матрицы $A$ и специальных процедур из пакета `scipy.linalg` (`cho_factor`, `cho_solve`).\n",
        "\n",
        "Для решения СЛАУ с треугольной матрицей можно воспользоваться функцией `solve_triangular` из пакета `scipy.linalg`."
      ]
    },
    {
      "cell_type": "code",
      "metadata": {
        "deletable": false,
        "id": "kJdxuoSo-QZE",
        "nbgrader": {
          "checksum": "b9fbc7541c79e23e870b610912f69007",
          "grade": false,
          "grade_id": "cell-6caf0402ed35a8ea",
          "locked": false,
          "schema_version": 1,
          "solution": true
        }
      },
      "source": [
        "def naive_solve(A, b):\n",
        "    return np.dot(np.linalg.inv(A),b)\n",
        "\n",
        "def standard_solve(A, b):\n",
        "    return sla.solve(A, b)\n",
        "\n",
        "def cholesky_solve(A, b):\n",
        "    R = sla.cholesky(A)\n",
        "    y = sla.solve_triangular(R.T,b,lower=True)\n",
        "    return sla.solve_triangular(R,y)\n",
        "\n",
        "def cho_scipy_solve(A, b):\n",
        "    c, low = sla.cho_factor(A)\n",
        "    return sla.cho_solve((c,low),b)"
      ],
      "execution_count": null,
      "outputs": []
    },
    {
      "cell_type": "markdown",
      "metadata": {
        "pycharm": {
          "name": "#%% md\n"
        },
        "id": "l4Sl-RK4fapC"
      },
      "source": [
        "Генерировать матрицу $A$ будем в виде: $CC^T$, где $C$ - произвольная невырожденная случайная матрица . Тогда $A = A^T \\geq 0$. Вообще говоря, если мы будем генерировать матрицу из случайных величин с абсолютно непрерывным распределением, то вероятность того, что матрица получится вырожденной равна нулю, но в теории на практике из-за округлений\n",
        "мы все же можем получить вырожденную матрицу. Но из-за высокой точности будем считать что это практически невозможно и не будем делать дополнительные проверки на определитель при генерации матрицы $C$"
      ]
    },
    {
      "cell_type": "code",
      "metadata": {
        "pycharm": {
          "name": "#%%\n"
        },
        "id": "4jDyXL0DfapC"
      },
      "source": [
        "def gen(n):\n",
        "    C = np.random.randn(n,n)\n",
        "    return np.dot(C,C.T)"
      ],
      "execution_count": null,
      "outputs": []
    },
    {
      "cell_type": "markdown",
      "metadata": {
        "deletable": false,
        "editable": false,
        "id": "Up5U-5I2-QZH",
        "nbgrader": {
          "checksum": "ec4216a319fcc0d63dc1e562947e6bf7",
          "grade": false,
          "grade_id": "cell-bdac2e9beba02081",
          "locked": true,
          "schema_version": 1,
          "solution": false
        }
      },
      "source": [
        "Проведите тестирование реализованных алгоритмов на небольшой СЛАУ на предмет совпадения ответов"
      ]
    },
    {
      "cell_type": "code",
      "metadata": {
        "id": "A3awSpZ8-QZH",
        "colab": {
          "base_uri": "https://localhost:8080/"
        },
        "outputId": "6b690453-f472-473e-a547-50938290bc11"
      },
      "source": [
        "n = 4\n",
        "A = gen(n)\n",
        "x = np.ones(n)\n",
        "b = np.dot(A,x)\n",
        "print('naive:',np.allclose(x, naive_solve(A, b)))\n",
        "print('standard:',np.allclose(x, standard_solve(A, b)))\n",
        "print('cholesky:',np.allclose(x, cholesky_solve(A, b)))\n",
        "print('cho scipy:',np.allclose(x, cho_scipy_solve(A, b)))\n"
      ],
      "execution_count": null,
      "outputs": [
        {
          "output_type": "stream",
          "name": "stdout",
          "text": [
            "naive: True\n",
            "standard: True\n",
            "cholesky: True\n",
            "cho scipy: True\n"
          ]
        }
      ]
    },
    {
      "cell_type": "markdown",
      "metadata": {
        "id": "fsB4lIqi-QZN"
      },
      "source": [
        "Проведите эксперименты и выясните, как меняется время работы этих методов\n",
        "\n",
        "- с ростом размера матрицы $A$ при фиксированном числе правых частей. Рассмотрите системы с 10, 100, 1000 правых частей;\n",
        "\n",
        "- с ростом числа правых частей при фиксированном размере матрицы $A$ (например, $100\\times100$).\n",
        "\n",
        "Обязательно нарисуйте графики (время работы от размера). Какой метод оказывается более быстрым?\n",
        "\n",
        "Для тестирования вам пригодятся случайные матрицы, сгенерированные, например, с помощью функции `numpy.random.randn`. Но не забудьте, что в задаче речь идёт о *симметрических положительно определённых матрицах*. Так что подумайте, как из случайных матриц сделать симметрические положительно определённые.\n",
        "\n",
        "Матрицы левых частей должны быть не менее $100\\times100$: при меньших размерностях заметную роль могут играть факторы, не имеющие отношения к алгебре. Мы рекомендуем рассматривать системы с матрицами размера от 100 до 1000 и с числом правых частей от 10 до 10000. Приготовьтесь к тому, что эксперименты могут занять какое-то время."
      ]
    },
    {
      "cell_type": "markdown",
      "metadata": {
        "id": "LKsvuJwz-QZO",
        "pycharm": {
          "name": "#%% md\n"
        }
      },
      "source": [
        "#### 1) Зависимость от размерности $ A $(на всякий случай: в гугл колабе надо подождать +- 40 с)\n"
      ]
    },
    {
      "cell_type": "code",
      "metadata": {
        "pycharm": {
          "name": "#%%\n",
          "is_executing": true
        },
        "colab": {
          "base_uri": "https://localhost:8080/",
          "height": 851
        },
        "id": "TUbc8zpIfapD",
        "outputId": "1ccfbc3e-8ffe-4ff3-f256-0711f428835f"
      },
      "source": [
        "for j in range(1,4,1):\n",
        "    Y_naive = []\n",
        "    Y_standard = []\n",
        "    Y_cholesky = []\n",
        "    Y_cho_scipy = []\n",
        "    for i in range(100,1100,100):\n",
        "        B = np.random.randn(i,10 ** j)\n",
        "        A = gen(i)\n",
        "        Y_naive.append(min(timeit.repeat('naive_solve(A,B)', \"from __main__ import A,B,naive_solve\",number= 1,repeat= 10)))\n",
        "        Y_standard.append(min(timeit.repeat('standard_solve(A,B)', \"from __main__ import A,B,standard_solve\",number= 1,repeat= 10)))\n",
        "        Y_cholesky.append(min(timeit.repeat('cholesky_solve(A,B)', \"from __main__ import A,B,cholesky_solve\",number= 1,repeat= 10)))\n",
        "        Y_cho_scipy.append(min(timeit.repeat('cho_scipy_solve(A,B)', \"from __main__ import A,B,cho_scipy_solve\",number= 1,repeat= 10)))\n",
        "        #%timeit naive_solve(A,B)\n",
        "        #%timeit standard_solve(A,B)\n",
        "        #%timeit cholesky_solve(A,B)\n",
        "        #%timeit cho_scipy_solve(A,B)\n",
        "    X = np.arange(100,1100,100)\n",
        "    Y_naive = np.array(Y_naive)\n",
        "    Y_standard = np.array(Y_standard)\n",
        "    Y_cholesky = np.array(Y_cholesky)\n",
        "    Y_cho_scipy = np.array(Y_cho_scipy)\n",
        "    plt.figure(j)\n",
        "    plt.plot(X,np.array(Y_naive),label = 'naive')\n",
        "    plt.plot(X,np.array(Y_standard),label = 'standard')\n",
        "    plt.plot(X,np.array(Y_cholesky),label = 'cholesky')\n",
        "    plt.plot(X,np.array(Y_cho_scipy),label = 'cho_scipy')\n",
        "\n",
        "    plt.title('col(B) = ' + str(10 ** j))\n",
        "    plt.xlabel('dim(A)')\n",
        "    plt.ylabel('sec')\n",
        "    plt.legend()\n"
      ],
      "execution_count": null,
      "outputs": [
        {
          "output_type": "display_data",
          "data": {
            "image/png": "[encoded data removed]",
            "text/plain": [
              "<Figure size 432x288 with 1 Axes>"
            ]
          },
          "metadata": {
            "needs_background": "light"
          }
        },
        {
          "output_type": "display_data",
          "data": {
            "image/png": "[encoded data removed]",
            "text/plain": [
              "<Figure size 432x288 with 1 Axes>"
            ]
          },
          "metadata": {
            "needs_background": "light"
          }
        },
        {
          "output_type": "display_data",
          "data": {
            "image/png": "[encoded data removed]",
            "text/plain": [
              "<Figure size 432x288 with 1 Axes>"
            ]
          },
          "metadata": {
            "needs_background": "light"
          }
        }
      ]
    },
    {
      "cell_type": "markdown",
      "metadata": {
        "deletable": false,
        "id": "Au8icFjI-QZQ",
        "nbgrader": {
          "checksum": "14ecbbbb4142cf016dcc0fa18399c584",
          "grade": true,
          "grade_id": "cell-589d249219c09f19",
          "locked": false,
          "points": 3,
          "schema_version": 1,
          "solution": true
        }
      },
      "source": [
        "#### 2) Зависимость от количества столбцов $B$ при фиксированном $A$(dim(A) = 500)"
      ]
    },
    {
      "cell_type": "code",
      "metadata": {
        "pycharm": {
          "name": "#%%\n",
          "is_executing": true
        },
        "colab": {
          "base_uri": "https://localhost:8080/",
          "height": 312
        },
        "id": "dlFcpCp9fapD",
        "outputId": "20673d5b-373e-4b62-e43a-3d9b3c5d5f35"
      },
      "source": [
        "Y_naive = []\n",
        "Y_standard = []\n",
        "Y_cholesky = []\n",
        "Y_cho_scipy = []\n",
        "i = 500\n",
        "for j in range(100,1100,100):\n",
        "    B = np.random.randn(i,j)\n",
        "    A = gen(i)\n",
        "    Y_naive.append(min(timeit.repeat('naive_solve(A,B)', \"from __main__ import A,B,naive_solve\",number= 1,repeat= 10)))\n",
        "    Y_standard.append(min(timeit.repeat('standard_solve(A,B)', \"from __main__ import A,B,standard_solve\",number= 1,repeat= 10)))\n",
        "    Y_cholesky.append(min(timeit.repeat('cholesky_solve(A,B)', \"from __main__ import A,B,cholesky_solve\",number= 1,repeat= 10)))\n",
        "    Y_cho_scipy.append(min(timeit.repeat('cho_scipy_solve(A,B)', \"from __main__ import A,B,cho_scipy_solve\",number= 1,repeat= 10)))\n",
        "    #%timeit naive_solve(A,B)\n",
        "    #%timeit standard_solve(A,B)\n",
        "    #%timeit cholesky_solve(A,B)\n",
        "    #%timeit cho_scipy_solve(A,B)\n",
        "X = np.arange(100,1100,100)\n",
        "\n",
        "plt.plot(X,np.array(Y_naive),label = 'naive')\n",
        "plt.plot(X,np.array(Y_standard),label = 'standard')\n",
        "plt.plot(X,np.array(Y_cholesky),label = 'cholesky')\n",
        "plt.plot(X,np.array(Y_cho_scipy),label = 'cho_scipy')\n",
        "\n",
        "plt.title('dim(A) = ' + str(i))\n",
        "plt.xlabel('col(B)')\n",
        "plt.ylabel('sec')\n",
        "plt.legend()"
      ],
      "execution_count": null,
      "outputs": [
        {
          "output_type": "execute_result",
          "data": {
            "text/plain": [
              "<matplotlib.legend.Legend at 0x7fdc358d7bd0>"
            ]
          },
          "metadata": {},
          "execution_count": 32
        },
        {
          "output_type": "display_data",
          "data": {
            "image/png": "[encoded data removed]",
            "text/plain": [
              "<Figure size 432x288 with 1 Axes>"
            ]
          },
          "metadata": {
            "needs_background": "light"
          }
        }
      ]
    },
    {
      "cell_type": "markdown",
      "metadata": {
        "pycharm": {
          "name": "#%% md\n"
        },
        "id": "AZIK7SxGfapD"
      },
      "source": [
        "#### Вывод: лучший вариант - использовать библиотечную функцию для разложения холекцого или писать самому через разложение холецкого."
      ]
    },
    {
      "cell_type": "markdown",
      "metadata": {
        "deletable": false,
        "editable": false,
        "id": "zVYAJfR4-QZR",
        "nbgrader": {
          "checksum": "1f17c5258154e221fa1b8331c5cf6abb",
          "grade": false,
          "grade_id": "cell-adee30c6bcf75d8b",
          "locked": true,
          "schema_version": 1,
          "solution": false
        }
      },
      "source": [
        "**Задание 2.2. Пример: вычисление логарифма плотности многомерного нормального распределения (3,5 балла)**\n",
        "\n",
        "Случайная величина $\\vec{x}\\in\\mathbb{R}^D$ имеет многомерное нормальное распределение, если её плотность может быть представлена как\n",
        "$$\n",
        "p(\\vec{x}) = \\mathcal{N}(\\vec{x}|\\vec{\\mu},\\Sigma) = \\frac{1}{\\sqrt{2\\pi}^D\\sqrt{\\det\\Sigma}}\\exp\\left(-\\frac{1}{2}(\\vec{x}-\\vec{\\mu})^T\\Sigma^{-1}(\\vec{x}-\\vec{\\mu})\\right)\n",
        "$$\n",
        "Здесь $\\vec{\\mu}\\in\\mathbb{R}^D -$ вектор мат. ожидания $\\vec{x}$, а $\\Sigma\\in\\mathbb{R}^{D{\\times}D} -$ матрица ковариации.\n",
        "\n",
        "С помощью матричных разложений реализуйте алгоритм вычисления логарифма нормальной плотности для набора векторов $X = \\{\\vec{x}_1,\\dots,\\vec{x}_N\\}$ для заданных $\\vec{\\mu}$ и $\\Sigma$."
      ]
    },
    {
      "cell_type": "code",
      "metadata": {
        "deletable": false,
        "id": "GeU3Nkcr-QZS",
        "nbgrader": {
          "checksum": "6d7fe27f5b8d36e70142ab3bb9084510",
          "grade": false,
          "grade_id": "cell-0bc9a15ed8b06222",
          "locked": false,
          "schema_version": 1,
          "solution": true
        },
        "pycharm": {
          "name": "#%%\n",
          "is_executing": true
        }
      },
      "source": [
        "from scipy.stats import multivariate_normal\n",
        "\n",
        "#Заготовка:\n",
        "def my_multivariate_normal_logpdf(X, m, S):\n",
        "    D = m.shape[0]\n",
        "    R = sla.cholesky(S)\n",
        "    out = -D/2 * np.log(2 * np.pi) - np.log(R.diagonal().prod())\n",
        "    Z = np.dot(np.linalg.inv(R.T),(X - m).T)\n",
        "    out -= 1/2 * np.dot(Z.T,Z).diagonal()\n",
        "    return out"
      ],
      "execution_count": null,
      "outputs": []
    },
    {
      "cell_type": "markdown",
      "metadata": {
        "deletable": false,
        "editable": false,
        "id": "-P9pcjcP-QZV",
        "nbgrader": {
          "checksum": "4c75acd1a5876b1335cd7e1ec7ac09fd",
          "grade": true,
          "grade_id": "cell-e25b2205e51c8986",
          "locked": true,
          "points": 1,
          "schema_version": 1,
          "solution": false
        },
        "pycharm": {
          "name": "#%% md\n"
        }
      },
      "source": [
        "#### Проверка на совпадение ответов:"
      ]
    },
    {
      "cell_type": "code",
      "metadata": {
        "pycharm": {
          "name": "#%%\n",
          "is_executing": true
        },
        "colab": {
          "base_uri": "https://localhost:8080/"
        },
        "id": "p41H1gICfapE",
        "outputId": "ae4ce0e6-5405-433b-d494-46e2ef64beb0"
      },
      "source": [
        "D = 6\n",
        "N = 5\n",
        "X_testing = np.random.multivariate_normal(np.random.randn(D), np.eye(D), N)\n",
        "S = gen(D)\n",
        "m = np.random.randn(D)\n",
        "np.allclose( my_multivariate_normal_logpdf(X_testing, m, S), scipy.stats.multivariate_normal.logpdf(X_testing, mean=m, cov=S))"
      ],
      "execution_count": null,
      "outputs": [
        {
          "output_type": "execute_result",
          "data": {
            "text/plain": [
              "True"
            ]
          },
          "metadata": {},
          "execution_count": 36
        }
      ]
    },
    {
      "cell_type": "markdown",
      "metadata": {
        "id": "4QWI13kH-QZX"
      },
      "source": [
        "Замерьте время работы вашего алгоритма и функции `scipy.stats.multivariate_normal.logpdf` для различных значений $D$. Постарайтесь добиться, чтобы ваш алгоритм выигрывал по скорости у стандартной функции."
      ]
    },
    {
      "cell_type": "code",
      "metadata": {
        "deletable": false,
        "editable": false,
        "id": "qxINkrwa-QZX",
        "nbgrader": {
          "checksum": "9729d186296a7e1354db533c5e6b606e",
          "grade": true,
          "grade_id": "cell-7695c5c47dc34e70",
          "locked": true,
          "points": 1,
          "schema_version": 1,
          "solution": false
        },
        "pycharm": {
          "is_executing": true
        },
        "colab": {
          "base_uri": "https://localhost:8080/"
        },
        "outputId": "c71afbb2-43a5-4ef3-8a9b-b80a3f53faf3"
      },
      "source": [
        "N = 100\n",
        "for D in range(100,400,100):\n",
        "    X_testing = np.random.multivariate_normal(np.random.randn(D), np.eye(D), N)\n",
        "    S = gen(D)\n",
        "    m = np.random.randn(D)\n",
        "\n",
        "    print('\\nN = ' + str(N),'D = ' + str(D))\n",
        "    print('my:')\n",
        "    %timeit my_multivariate_normal_logpdf(X_testing, m, S)\n",
        "    print('scipy:')\n",
        "    %timeit scipy.stats.multivariate_normal.logpdf(X_testing, mean=m, cov=S)"
      ],
      "execution_count": null,
      "outputs": [
        {
          "output_type": "stream",
          "name": "stdout",
          "text": [
            "\n",
            "N = 100 D = 100\n",
            "my:\n",
            "1000 loops, best of 5: 1.31 ms per loop\n",
            "scipy:\n",
            "100 loops, best of 5: 3.37 ms per loop\n",
            "\n",
            "N = 100 D = 200\n",
            "my:\n",
            "100 loops, best of 5: 4.7 ms per loop\n",
            "scipy:\n",
            "100 loops, best of 5: 14.4 ms per loop\n",
            "\n",
            "N = 100 D = 300\n",
            "my:\n",
            "100 loops, best of 5: 13.9 ms per loop\n",
            "scipy:\n",
            "10 loops, best of 5: 28.7 ms per loop\n"
          ]
        }
      ]
    },
    {
      "cell_type": "markdown",
      "metadata": {
        "id": "sdxO8OTa-QZa",
        "pycharm": {
          "name": "#%% md\n"
        }
      },
      "source": [
        "### Получилось обогнать библиотечную функцию, использовали лишь разложение холецкого для подсчета определителя и произведения в экспоненте"
      ]
    },
    {
      "cell_type": "markdown",
      "metadata": {
        "deletable": false,
        "id": "-jgC1FHn-QZc",
        "nbgrader": {
          "checksum": "bd3dea4a59f3c17dc4c9a19b255c6d6b",
          "grade": true,
          "grade_id": "cell-f18c08db49d5e680",
          "locked": false,
          "points": 1,
          "schema_version": 1,
          "solution": true
        }
      },
      "source": [
        "YOUR ANSWER HERE"
      ]
    },
    {
      "cell_type": "markdown",
      "metadata": {
        "id": "ykXNXtaa-QZc"
      },
      "source": [
        "В задаче будут оцениваться:\n",
        "- удалось ли вам обогнать библиотечную функцию;\n",
        "- использованы ли вы матричные разложения (или просто обратили матрицу:))\n",
        "- наличие дополнительных оптимизаций"
      ]
    },
    {
      "cell_type": "markdown",
      "metadata": {
        "deletable": false,
        "editable": false,
        "id": "8zVDqHC9-QZu",
        "nbgrader": {
          "checksum": "d23469c59c838d075327d9b53ca300f4",
          "grade": false,
          "grade_id": "cell-89d5f121c563f7a7",
          "locked": true,
          "schema_version": 1,
          "solution": false
        }
      },
      "source": [
        "## Часть 3. Матричные дифференцирования"
      ]
    },
    {
      "cell_type": "markdown",
      "metadata": {
        "id": "P46iAXEVfapF"
      },
      "source": [
        "В данном блоке вам нужно $\\textbf{обязательно}$ написать полное решение, используя `Markdown` разметку, а не только ответ. В противном случае за задание будет ставиться 0 баллов."
      ]
    },
    {
      "cell_type": "markdown",
      "metadata": {
        "deletable": false,
        "id": "q21QTEGD-QZu",
        "nbgrader": {
          "checksum": "649ef92d8ed6173dd27e44e88f7fa9d3",
          "grade": false,
          "grade_id": "cell-d7696fe0d7fc55f8",
          "locked": true,
          "schema_version": 1,
          "solution": false
        }
      },
      "source": [
        "**Задача 3.1 (1 балл)** Пусть $f$ --- функция на множестве квадратных матриц $n\\times n$, а $g$ --- функция на множестве симметричных матриц $n\\times n$, совпадающая с $f$ на своей области определения. Докажите, что\n",
        "\n",
        "$$\\frac{\\partial g}{\\partial X} = \\frac{\\partial f}{\\partial X} + \\left(\\frac{\\partial f}{\\partial X}\\right)^T -\n",
        "\\mathrm{diag}\\left(\\frac{\\partial f}{\\partial x_{11}}, \\frac{\\partial f}{\\partial x_{22}},\\ldots,\n",
        "\\frac{\\partial f}{\\partial x_{nn}}\\right)$$"
      ]
    },
    {
      "cell_type": "markdown",
      "metadata": {
        "deletable": false,
        "id": "qsFs3Apd-QZu",
        "nbgrader": {
          "checksum": "9ecffcf0d11800346c591ac286751b52",
          "grade": true,
          "grade_id": "cell-11a9ad2dec4ef7a6",
          "locked": false,
          "points": 0.5,
          "schema_version": 1,
          "solution": true
        }
      },
      "source": [
        "По определению:\n",
        "$\\frac{\\partial g}{\\partial X} = \\left(\\frac{\\partial g}{\\partial x_{ij}}\\right)$.\n",
        "Выразим производные функции $g$ через производные функции $f$:\n",
        "\n",
        "1)\n",
        "\n",
        " $ i = j$, $тогда \\frac{\\partial g}{\\partial x_{ii}} = \\lim_{h\\to\\infty} \\frac{g(...,x_{ii}+h,...) - g(...,x_{ii},...)}{h} = \\lim_{h\\to\\infty} \\frac{f(...,x_{ii}+h,...) - f(...,x_{ii},...)}{h} = \\frac{\\partial f}{\\partial x_{ii}}$\n",
        "\n",
        " 2)\n",
        " \n",
        " $\\ i \\neq j, \\frac{\\partial g}{\\partial x_{ij}} = \\lim_{h\\to\\infty} \\frac{g(...,x_{ij}+h,...,x_{ji}+h,...) - g(...,x_{ij},...,x_{ji},...)}{h} = \\lim_{h\\to\\infty} \\frac{f(...,x_{ij}+h,...,x_{ji}+h,...) - f(...,x_{ij},...,x_{ji},...) }{h} = \\nabla f \\cdot (0,...,0,1,0,...,0,1,0,...,0)^T = \\frac{\\partial f}{\\partial x_{ij}} + \\frac{\\partial f}{\\partial x_{ji}}$\n",
        "\n",
        " Используя эти покомпонентные выражения требуемый матричный вид становится очевидным\n",
        "\n"
      ]
    },
    {
      "cell_type": "markdown",
      "metadata": {
        "deletable": false,
        "id": "AGTdyDKW-QZv",
        "nbgrader": {
          "checksum": "0ea848b9b6634df6f631f4bb15811392",
          "grade": false,
          "grade_id": "cell-0ba7fe235ce1ea1f",
          "locked": true,
          "schema_version": 1,
          "solution": false
        }
      },
      "source": [
        "**Задача 3.2 (1 балл)** Найдите производную\n",
        "\n",
        "$$\\frac{\\partial\\mathrm{tr}\\left(AX^2BX^{-T}\\right)}{\\partial X}$$"
      ]
    },
    {
      "cell_type": "markdown",
      "metadata": {
        "deletable": false,
        "id": "Z9dgd8IR-QZv",
        "nbgrader": {
          "checksum": "b4e6632691f0e0f8c8b8122aab00f420",
          "grade": true,
          "grade_id": "cell-9ab94204487207a9",
          "locked": false,
          "points": 0.5,
          "schema_version": 1,
          "solution": true
        }
      },
      "source": [
        "$$\\frac{\\partial tr\\left(AX^2BX^{-T}\\right)}{\\partial x_{ij}} = tr \\frac{\\partial\\left(AX^2BX^{-T}\\right)}{\\partial x_{ij}} = tr(AE_{ij}XBX^{-T})+tr(AXE_{ij}BX^{-T}) + tr(-AX^2BX^{-T}E_{ji}X^{-T}) = tr(XBX^{-T}AE_{ij})+tr(BX^{-T}AXE_{ij}) + tr(-X^{-T}AX^2BX^{-T}E_{ji}) = (XBX^{-T}A)_{ji} + (BX^{-T}AX)_{ji} + (-X^{-T}AX^2BX^{-T})_{ij}$$\n",
        "$$\\downarrow$$\n",
        "$$\\frac{\\partial\\mathrm{tr}\\left(AX^2BX^{-T}\\right)}{\\partial X} = (XBX^{-T}A)^T + (BX^{-T}AX)^T + (-X^{-T}AX^2BX^{-T}) $$"
      ]
    },
    {
      "cell_type": "markdown",
      "metadata": {
        "deletable": false,
        "id": "_E7Ri7eF-QZw",
        "nbgrader": {
          "checksum": "edd9742418be35c9d15222d080f89792",
          "grade": false,
          "grade_id": "cell-c1b163c10e290daf",
          "locked": true,
          "schema_version": 1,
          "solution": false
        }
      },
      "source": [
        "**Задача 3.3 (1 балл)** Найдите производную\n",
        "$$\\frac{\\partial\\ln{\\det\\left(X^TAX\\right)}}{\\partial X}$$"
      ]
    },
    {
      "cell_type": "markdown",
      "metadata": {
        "deletable": false,
        "id": "-WWUxvUu-QZw",
        "nbgrader": {
          "checksum": "00b7861417531ae080be7e48855dca08",
          "grade": true,
          "grade_id": "cell-7954a18e982d0818",
          "locked": false,
          "points": 0.5,
          "schema_version": 1,
          "solution": true
        }
      },
      "source": [
        "$$\\frac{\\partial\\ln{\\det\\left(X^TAX\\right)}}{\\partial x_{ij}} = tr\\left(\\left(\\frac{\\partial \\ln \\det Y}{\\partial \n",
        "Y}\\bigg|_{Y = X^TAX}\\right)^T \\frac{\\partial X^TAX}{\\partial x_{ij}}\\right) = tr\\left((X^TAX)^{-1}(E_{ji}AX+X^TAE_{ij})\\right) = \\left(AX(X^TAX)^{-1}\\right)_{ij}+ \\left((X^TAX)^{-1}X^TA\\right)_{ji} $$\n",
        "$$\\downarrow$$\n",
        "$$\\frac{\\partial\\ln{\\det\\left(X^TAX\\right)}}{\\partial X} = AX(X^TAX)^{-1}+ \\left((X^TAX)^{-1}X^TA\\right)^T$$YOUR ANSWER HERE"
      ]
    },
    {
      "cell_type": "markdown",
      "metadata": {
        "collapsed": true,
        "deletable": false,
        "id": "98K8Zm9y-QZx",
        "nbgrader": {
          "checksum": "910b08d99ed3c19396ae1b956baa7c06",
          "grade": false,
          "grade_id": "cell-19c3a2f6640cd10c",
          "locked": true,
          "schema_version": 1,
          "solution": false
        }
      },
      "source": [
        "**Задача 3.4 (2 балла)** Допустим, что векторы $y_1,\\ldots,y_m$ выбраны из многомерного нормального распределения с неизвестными вектором средних $m$ и ковариационной матрицей $\\Sigma$. В этом задании вам нужно будет найти оценки максимального правдоподобия $\\hat{m}$ и $\\hat{\\Sigma}$.\n",
        "\n",
        "Напомним вкратце, что такое оценка максимального правдоподобия в случае непрерывного распределения. Пусть $p(x|\\theta_1,\\ldots,\\theta_k)$ --- функция плотности распределения с неизвестными нам параметрами $\\theta_1,\\ldots,\\theta_k$, а $y_1,\\ldots,y_m$ --- выборка из этого распределения. \\textit{Функцией правдоподобия} назовём произведение $L(y_1\\ldots,y_m|\\theta_1,\\ldots,\\theta_k) := \\prod_{j=1}^kp(y_j|\\theta_1,\\ldots,\\theta_k)$; грубо говоря, это произведение показывает, насколько правдоподобно появление данной выборки $y_1,\\ldots,y_m$ при данных значениях параметров. В качестве оценки максимального правдоподобия выбирают те значения параметров, при которых функция правдоподобия достигает максимума. При этом как правило удобнее максимизировать не саму функцию правдоподобия, а *логарифмическую функцию правдоподобия* $l(y_1\\ldots,y_m|\\theta_1,\\ldots,\\theta_k) = \\ln{L(y_1\\ldots,y_m|\\theta_1,\\ldots,\\theta_k)}$.\n",
        "\n",
        "*Подсказка*. Постарайтесь превратить $\\sum_i(x_i - m)^T\\Sigma^{-1}(x_i - m)$ в функцию от матрицы $X$, столбцами которой являются векторы $x_i$."
      ]
    },
    {
      "cell_type": "markdown",
      "metadata": {
        "collapsed": true,
        "deletable": false,
        "id": "kZdYEbNq-QZx",
        "nbgrader": {
          "checksum": "a1bd6b27f2c61f29022c6b9a31c6db06",
          "grade": true,
          "grade_id": "cell-98a7650be5a53816",
          "locked": false,
          "points": 1,
          "schema_version": 1,
          "solution": true
        },
        "pycharm": {
          "name": "#%% md\n"
        }
      },
      "source": [
        "$$l(Y|\\Sigma,{\\bf m}) = C - \\frac{1}{2}m\\ln\\det\\Sigma - \\sum_i\\frac{1}{2}(y_i-{\\bf m})^T\\Sigma^{-1}(y_i-{\\bf m })$$\n",
        "\n",
        "1) Опм для математического ожидания.\n",
        "\n",
        " Зафиксируем $\\Sigma$, и найдем оптимальный $\\bf m$  для нее:\n",
        "$$\\frac{\\partial l(Y|\\Sigma,{\\bf m})}{\\partial{\\bf m }} = \\sum_i\\Sigma^{-1}(y_i-{\\bf m }) = 0$$\n",
        "Воспользовались симметричностью $\\Sigma$. Отсюда используя невырожденность матрицы ковариации получаем:\n",
        "$$ {\\hat{\\bf m}} =\\overline{Y}$$\n",
        "Получили, что ${\\hat{\\bf m}}$ не зависит от матрицы ковариации, это значит, что глобальный оптимум достигается на таком значеним ${\\hat{\\bf m}}$, значит найденная оценка для математического ожидания действительно является омп\n",
        "\n",
        "\n",
        "\n",
        "2)Омп для матрицы ковариации.\n",
        "Будем решать задачу минимизации с условием : $\\Sigma = \\Sigma^T$.Для этого будем использовать метод Лагранжа.Пусть так же $L = (\\lambda_{ij})$ - лагранжевы переменые\n",
        ". Так же воспользуемся очевидным равенством:\n",
        "$$(y_i-{{\\hat{\\bf m}}})^T\\Sigma^{-1}(y_i-{{\\hat{\\bf m}}})  = tr\\left((y_i-{\\bf m})^T\\Sigma^{-1}(y_i-{{\\hat{\\bf m}} })\\right) = tr\\left((y_i-{{\\hat{\\bf m}}})(y_i-{{\\hat{\\bf m}} })^T\\Sigma^{-1}\\right)$$Тогда искомая система примет вид:\n",
        "$$\\frac{\\partial}{\\partial \\Sigma}\\left( C - \\frac{1}{2}m\\ln\\det\\Sigma - \\frac{1}{2}\\sum_itr\\left((y_i-{{\\hat{\\bf m}}})(y_i-{{\\hat{\\bf m}} })^T\\Sigma^{-1}\\right) - tr(L^T(\\Sigma-\\Sigma^T) \\right) = 0$$\n",
        "Получим:\n",
        "$$-\\frac{1}{2}m\\Sigma^{-T} + \\frac{1}{2} \\left(\\Sigma^{-1} \\sum_i (y_i-{{{\\hat{\\bf m}}}})(y_i-{{\\hat{\\bf m}} })^T \\Sigma^{-1}\\right)^T + L - L^T = 0 $$\n",
        "Пользуясь симемтричностью матрицы $\\Sigma$, сложив с транспонированным равенством получим:\n",
        "$$\\hat \\Sigma  = \\frac{1}{m}\\sum_i (y_i-{{\\hat{\\bf m}}})(y_i-{{\\hat{\\bf m}} })^T$$\n",
        "Стоит заметить, что решение мы искали лишь в классе симметрических\n",
        "матриц, чего явно было не достаточно для того чтобы утверждать, что полученная оценка на матрицу ковариации будет корректной т.к нужно еще необходимое требование\n",
        "на положительную определенность, к счастью нам очень повезло и полученная оценка на матрицу получилась действительно положительно определенной."
      ]
    },
    {
      "cell_type": "markdown",
      "metadata": {
        "deletable": false,
        "id": "zzR0HcOd-QZy",
        "nbgrader": {
          "checksum": "a342a932e13a553d2dab8c13e36876e3",
          "grade": false,
          "grade_id": "cell-dd93143675dc1aa5",
          "locked": true,
          "schema_version": 1,
          "solution": false
        }
      },
      "source": [
        "## Часть 4. Линейная Алгебра и Машинное Обучение  "
      ]
    },
    {
      "cell_type": "markdown",
      "metadata": {
        "deletable": false,
        "editable": false,
        "id": "7tr5u0e7-QZy",
        "nbgrader": {
          "checksum": "32c1d00abfb3ef2c699f68624c20abcf",
          "grade": false,
          "grade_id": "cell-477c6c3ab2de15f1",
          "locked": true,
          "schema_version": 1,
          "solution": false
        }
      },
      "source": [
        "Хорошее знание линейной алгебры очень важно в современном машинном обучении. В этом задании Вам предлагается реализовать метод машинного обучения применив знания матричного дифференцирования и итерационных методов решения систем уравнений :) \n",
        "\n",
        "В области машинного обучения одним из самых популярных методов бинарной классификации (предсказываем один из двух классов, $+1$ или $-1$ для каждого объекта) является логистическая регрессия. Она выводится из метода максимального правдоподобия, который приводит к следующей задаче оптимизации:\n",
        "\n",
        "$$ L(w, X, y) = \\frac1{N}\\sum_{i = 0}^{N} log (1 + exp(-y_ix_i^Tw)) + \\frac{C}{2} ||w||^2 \\longrightarrow \\min_w$$\n",
        "$$X \\in R^{N \\times M}, x \\in R^{M}, w \\in R^{M}, y \\in \\{-1, 1\\}^N$$\n",
        "\n",
        "Здесь $X$ - матрица объекты-признаки для обучающей выборки (по строкам объекты, по столбцам признаки), а $y$ - вектор ответов. Коэффициент $C$, вообще говоря, нужно подбирать отдельно, поскольку разные его значения приводят к разным решениям задачи оптимизации. Но так как это уже никакого отношения не имеет к линейной алгебре, то в этой задаче мы положим $\\mathbf{C = 10^{-4}}$\n",
        "\n",
        "Когда мы решили задачу оптимизации (нашли $w$), мы принимаем решение о том, к какому классу относится объект по правилу $y(x) = sign(x^Tw)$. В данной части вам необходимо применить методы линейной алгебры для решения этой задачи. \n",
        "\n",
        "План у нас такой:\n",
        "- Вычислить градиент функции $L$, эффективно запрограммировать и проверить себя\n",
        "- Вычислить гессиан функции $L$,  эффективно запрограммировать и проверить себя\n",
        "- Воспользоваться методом второго порядка для оптимизации \n",
        "- Внутри метода оптимизации вместо обращения матрицы, решать систему уравнений с помощью итерационного метода\n",
        "- Исследовать эффективность различных методов решения системы уравнений на реальных данных"
      ]
    },
    {
      "cell_type": "markdown",
      "metadata": {
        "deletable": false,
        "editable": false,
        "id": "vL6nd3JS-QZ0",
        "nbgrader": {
          "checksum": "b5c81cf2a00ae295ca88ef539ca4f997",
          "grade": false,
          "grade_id": "cell-8f18d42d93297a38",
          "locked": true,
          "schema_version": 1,
          "solution": false
        }
      },
      "source": [
        "Для тестирования правильности вычисления сгенерируем аргументы небольшого размера"
      ]
    },
    {
      "cell_type": "code",
      "metadata": {
        "deletable": false,
        "editable": false,
        "id": "Ln-rxVcc-QZ1",
        "nbgrader": {
          "checksum": "6d4ae8f3987bbc37efb2d298d5237433",
          "grade": false,
          "grade_id": "cell-a174316115ffacc3",
          "locked": true,
          "schema_version": 1,
          "solution": false
        },
        "pycharm": {
          "is_executing": true
        }
      },
      "source": [
        "w, X, y = np.random.random(10), np.random.random((11, 10)), 2*(np.random.randint(0, 2, 11)-0.5)"
      ],
      "execution_count": null,
      "outputs": []
    },
    {
      "cell_type": "markdown",
      "metadata": {
        "deletable": false,
        "id": "dIrxMnvx-QZ3",
        "nbgrader": {
          "checksum": "3f1deceb06a491a6d23693b013f28537",
          "grade": false,
          "grade_id": "cell-8cd372ee96a6e5c6",
          "locked": true,
          "schema_version": 1,
          "solution": false
        }
      },
      "source": [
        "**Задача 4.0 (1 балл)**\n",
        "\n",
        "Запрограммируйте вычисление функции L, используйте только матричные операции (внутри не должно быть циклов).\n",
        "\n",
        "**Замечание**: Нигде в промежуточных вычислениях не стоит вычислять значение $exp(−y_ix^Tw)$, иначе может произойти переполнение. Вместо этого следует напрямую вычислять необходимые величины с помощью специализированных для этого функций: `np.logaddexp` для `ln(1 + exp(·))` и `sp.special.expit` для `1/(1 + exp(-(·)))`."
      ]
    },
    {
      "cell_type": "code",
      "metadata": {
        "deletable": false,
        "id": "u4XlbBeJ-QZ4",
        "nbgrader": {
          "checksum": "e5c9b868456f7d479d206e97e970bd3f",
          "grade": false,
          "grade_id": "cell-6bceac5eb9fa7177",
          "locked": false,
          "schema_version": 1,
          "solution": true
        },
        "pycharm": {
          "is_executing": true
        }
      },
      "source": [
        "def logistic(w, X, y):\n",
        "    '''\n",
        "        logistic(w, X, y) вычисляет функцию качества лог регрессии L(w, X, y)\n",
        "        \n",
        "        w: np.array размера (M,)\n",
        "        X: np.array размера (N, M)\n",
        "        y: np.array размера (M,)\n",
        "        \n",
        "        funcw: np.float \n",
        "    '''\n",
        "    return np.logaddexp(-y * np.dot(X,w),0).mean() + 10 ** -4 / 2 * np.linalg.norm(w, ord = 2) ** 2 \n"
      ],
      "execution_count": null,
      "outputs": []
    },
    {
      "cell_type": "code",
      "metadata": {
        "deletable": false,
        "editable": false,
        "id": "HDirx2Z--QZ6",
        "nbgrader": {
          "checksum": "b1c64f6a5e3ad930e8d561acca23518c",
          "grade": true,
          "grade_id": "cell-432552d7cde48e96",
          "locked": true,
          "points": 0.5,
          "schema_version": 1,
          "solution": false
        },
        "pycharm": {
          "is_executing": true
        },
        "colab": {
          "base_uri": "https://localhost:8080/"
        },
        "outputId": "7b93b987-af4c-4711-afda-00ecc9f84ad8"
      },
      "source": [
        "print(logistic(w, X, y))"
      ],
      "execution_count": null,
      "outputs": [
        {
          "output_type": "stream",
          "name": "stdout",
          "text": [
            "1.6782084705285742\n"
          ]
        }
      ]
    },
    {
      "cell_type": "markdown",
      "metadata": {
        "deletable": false,
        "id": "5lBEC-Q4-QZ8",
        "nbgrader": {
          "checksum": "c9727e73236402c1c104ba878431313e",
          "grade": false,
          "grade_id": "cell-93a0240084167fd7",
          "locked": true,
          "schema_version": 1,
          "solution": false
        }
      },
      "source": [
        "**Задача 4.1 (1.5 балла)**\n",
        "\n",
        "Найдите градиент функции $\\nabla_w L(w, X, y)$, запишите в терминах матричных операций. Подробное решение (как в блоке с матричными производными) нужно обязательно записать ниже!\n",
        "\n",
        "Эффективно запрограммируйте вычисление градиента (опять же, только матричные операции!)"
      ]
    },
    {
      "cell_type": "markdown",
      "metadata": {
        "id": "fR_8nxHG-QZ8"
      },
      "source": [
        "$$ \\frac{\\partial L}{\\partial w_j} = \\frac{-1}{N}\\sum_{i = 0}^{N} {y_ix_{ij}} \\left(1 - \\frac{1}{1 + exp(-y_ix_i^Tw)}\\right) + C w_j$$"
      ]
    },
    {
      "cell_type": "code",
      "metadata": {
        "deletable": false,
        "id": "52HPLXWU-QZ9",
        "nbgrader": {
          "checksum": "d35580cafcbbe5b61974b074981460c7",
          "grade": false,
          "grade_id": "cell-ecf1883dfb814b09",
          "locked": false,
          "schema_version": 1,
          "solution": true
        },
        "pycharm": {
          "is_executing": true
        }
      },
      "source": [
        "def logistic_grad(w, X, y):\n",
        "    '''\n",
        "        logistic_grad(w, X, y) вычисляет градиент функции качества лог регрессии dL(w, X, y)/dw\n",
        "        \n",
        "        w: np.array размера (M,)\n",
        "        X: np.array размера (N, M)\n",
        "        y: np.array размера (M,)\n",
        "        \n",
        "        gradw: np.array размера (M,)\n",
        "    '''\n",
        "    # YOUR CODE HERE\n",
        "    return -((X * y[np.newaxis].T) * ((np.exp(-y * np.dot(X,w)) * scipy.special.expit(y * np.dot(X,w))))[np.newaxis].T).mean(axis = 0) + 10 ** -4 * w"
      ],
      "execution_count": null,
      "outputs": []
    },
    {
      "cell_type": "code",
      "metadata": {
        "deletable": false,
        "editable": false,
        "id": "rk2BSBgu-QZ_",
        "nbgrader": {
          "checksum": "27a545b61620f808e5165c81ad7aa6fe",
          "grade": false,
          "grade_id": "cell-4bff26c1beb90ab6",
          "locked": true,
          "schema_version": 1,
          "solution": false
        },
        "pycharm": {
          "is_executing": true
        }
      },
      "source": [
        "assert(logistic_grad(w, X, y).shape == w.shape)"
      ],
      "execution_count": null,
      "outputs": []
    },
    {
      "cell_type": "markdown",
      "metadata": {
        "deletable": false,
        "id": "LODyklw1-QaB",
        "nbgrader": {
          "checksum": "6885dfa7f4501af2d1e5320c0bbde0da",
          "grade": false,
          "grade_id": "cell-3e619b5e238e6053",
          "locked": true,
          "schema_version": 1,
          "solution": false
        }
      },
      "source": [
        "Очень часто при подсчёте градиента допускаются ошибки, проверьте правильность реализации подсчёта градиента с помощью конечных разностей. \n",
        "\n",
        "$$[\\nabla f(x)]_i \\approx \\frac{f(x + \\epsilon \\cdot e_i) - f(x)}{\\epsilon}~~~~$$\n",
        "\n",
        "где $e_i = (0, ... , 0, 1, 0, ..., 0)$ - i-й базисный орт, $\\epsilon \\approx 10^{-8}$\n",
        "\n",
        "Ваша функция должна корректно работать."
      ]
    },
    {
      "cell_type": "code",
      "metadata": {
        "deletable": false,
        "id": "WTM0asgD-QaC",
        "nbgrader": {
          "checksum": "0bf219813fb111ba285267d137481a33",
          "grade": false,
          "grade_id": "cell-e0eacec64b66dde1",
          "locked": false,
          "schema_version": 1,
          "solution": true
        },
        "pycharm": {
          "is_executing": true
        }
      },
      "source": [
        "\n",
        "def max_error(a, b):\n",
        "    return np.max(np.abs(a-b))\n",
        "\n",
        "def grad_finite_diff(func, x, eps=1e-8):\n",
        "    '''\n",
        "        w: np.array размера (M,)\n",
        "        func: скалярная функция от векторного аргумента w, func(w) =  число\n",
        "        eps: np.float константа для проверки градиента\n",
        "\n",
        "        dnum: np.array размера (M,), численно посчитанный градиент\n",
        "    '''\n",
        "    x, fval, dnum = x.astype(np.float64), func(x), np.zeros_like(x)\n",
        "\n",
        "    # YOUR CODE HER\n",
        "    E =np.eye(x.size) * eps\n",
        "    g = lambda w: logistic(w, X, y)\n",
        "    dnum = (np.apply_along_axis(g,-1,x + E) - np.apply_along_axis(g,-1,x)) / eps\n",
        "    return dnum"
      ],
      "execution_count": null,
      "outputs": []
    },
    {
      "cell_type": "code",
      "metadata": {
        "deletable": false,
        "editable": false,
        "id": "3mAe219K-QaE",
        "nbgrader": {
          "checksum": "529b2a784821a0469840bfa29a4491bb",
          "grade": true,
          "grade_id": "cell-0d58cf96fc300908",
          "locked": true,
          "points": 1,
          "schema_version": 1,
          "solution": false
        },
        "pycharm": {
          "is_executing": true
        },
        "colab": {
          "base_uri": "https://localhost:8080/"
        },
        "outputId": "8f199635-93b1-4a07-bab2-6d3099af9e53"
      },
      "source": [
        "mat_grad = logistic_grad(w, X, y)\n",
        "num_grad = grad_finite_diff(lambda w: logistic(w, X, y), w)\n",
        "\n",
        "err = max_error(mat_grad, num_grad)\n",
        "print('err = ', err, 'ok' if err < 1e-6 else 'ошибка очень большая =(')\n",
        "\n"
      ],
      "execution_count": null,
      "outputs": [
        {
          "output_type": "stream",
          "name": "stdout",
          "text": [
            "err =  3.512015395168433e-08 ok\n"
          ]
        }
      ]
    },
    {
      "cell_type": "markdown",
      "metadata": {
        "id": "q3ZsvpdA-QaH"
      },
      "source": [
        "**Задача 4.2 (2.5 балла)**\n",
        "\n",
        "Для некоторых задач оптимизации очень удобно использовать гессиан. \n",
        "\n",
        "Вычислите гессиан для функции L, запишите ответ в терминах матричных операций. \n",
        "\n",
        "**Упражнение**: Можно ли что-то сказать про знакоопределенность этой матрицы?\n",
        "    \n",
        "Эффективно запрограммируйте вычисление гессиана."
      ]
    },
    {
      "cell_type": "markdown",
      "metadata": {
        "id": "uPHSvo0d-QaH"
      },
      "source": [
        "---\n",
        "*Вычислите гессиан здесь*"
      ]
    },
    {
      "cell_type": "code",
      "metadata": {
        "deletable": false,
        "id": "k0OxEKmA-QaI",
        "nbgrader": {
          "checksum": "ac326dd5edd95d9a6fbd0714ce4aabe0",
          "grade": false,
          "grade_id": "cell-a5f8e7199234b6dd",
          "locked": false,
          "schema_version": 1,
          "solution": true
        },
        "pycharm": {
          "is_executing": true
        }
      },
      "source": [
        "def logistic_hess(w, X, y):\n",
        "    '''\n",
        "        logistic_hess(w, X, y) вычисляет гессиан функции качества лог регрессии dL(w, X, y)/dw\n",
        "        \n",
        "        w: np.array размера (M,)\n",
        "        X: np.array размера (N, M)\n",
        "        y: np.array размера (M,)\n",
        "        \n",
        "        hessw: np.array размера (M, M)\n",
        "    '''\n",
        "    \n",
        "    #hessw = # Гессиан dL/dw_iw_j\n",
        "    # YOUR CODE HERE\n",
        "    raise NotImplementedError()"
      ],
      "execution_count": null,
      "outputs": []
    },
    {
      "cell_type": "code",
      "metadata": {
        "deletable": false,
        "editable": false,
        "id": "rVhV-v3p-QaK",
        "nbgrader": {
          "checksum": "df464f34c44f694b330e9b25a70ddac0",
          "grade": false,
          "grade_id": "cell-98f98e82458aaefb",
          "locked": true,
          "schema_version": 1,
          "solution": false
        },
        "pycharm": {
          "is_executing": true
        }
      },
      "source": [
        "assert(logistic_hess(w, X, y).shape == (w.shape[0], w.shape[0]))"
      ],
      "execution_count": null,
      "outputs": []
    },
    {
      "cell_type": "markdown",
      "metadata": {
        "deletable": false,
        "editable": false,
        "id": "6wd9TMrn-QaR",
        "nbgrader": {
          "checksum": "9794a65b60f9d0c598b2cba183939c32",
          "grade": false,
          "grade_id": "cell-1117b31f41db4046",
          "locked": true,
          "schema_version": 1,
          "solution": false
        }
      },
      "source": [
        "Теперь проверим правильность реализации подсчёта гессиана.\n",
        "\n",
        "Для гессиана проверка выглядит похожим образом\n",
        "\n",
        "$$[\\nabla^2 f(x)]_{ij} \\approx \\frac{f(x + \\epsilon \\cdot e_i + \\epsilon \\cdot e_j) -f(x + \\epsilon \\cdot e_i) - f(x + \\epsilon \\cdot e_j)+ f(x)}{\\epsilon^2}~~~~~~~~~~~~~~~~~~~~~$$\n",
        "\n",
        "где $e_i = (0, ... , 0, 1, 0, ..., 0)$ - i-й базисный орт, $\\epsilon \\approx 10^{-4}$"
      ]
    },
    {
      "cell_type": "code",
      "metadata": {
        "deletable": false,
        "id": "57VWJHLI-QaS",
        "nbgrader": {
          "checksum": "64580d0cf28968c5ac88ea655dc0ee95",
          "grade": false,
          "grade_id": "cell-2b569c7fcb37ea31",
          "locked": false,
          "schema_version": 1,
          "solution": true
        },
        "pycharm": {
          "is_executing": true
        }
      },
      "source": [
        "def hess_finite_diff(func, w, eps=1e-4):\n",
        "    '''\n",
        "        w: np.array размера (M,)\n",
        "        func: скалярная функция от векторного аргумента w, func(w) =  число\n",
        "        eps: np.float константа для проверки градиента\n",
        "        \n",
        "        dnum: np.array размера (M,), численно посчитанный градиент\n",
        "    '''\n",
        "    w, fval, dnum = w.astype(np.float64), func(w).astype(np.float64), np.zeros((w.size, w.size), dtype=np.float64)\n",
        "    #dnum = # Вычислите численный гессиан d func/dw_iw_j для всех i, j\n",
        "    # YOUR CODE HERE\n",
        "    raise NotImplementedError()"
      ],
      "execution_count": null,
      "outputs": []
    },
    {
      "cell_type": "code",
      "metadata": {
        "deletable": false,
        "editable": false,
        "id": "jMrU0dG1-QaV",
        "nbgrader": {
          "checksum": "f56a52953d6aa5e79df88427b7d11142",
          "grade": true,
          "grade_id": "cell-fe07f057cc5f7a4e",
          "locked": true,
          "points": 1,
          "schema_version": 1,
          "solution": false
        },
        "pycharm": {
          "is_executing": true
        }
      },
      "source": [
        "mat_grad = logistic_hess(w, X, y)\n",
        "num_grad = hess_finite_diff(lambda w: logistic(w, X, y), w)\n",
        "\n",
        "err = max_error(mat_grad, num_grad)\n",
        "\n",
        "print('err = ', err)\n",
        "print('ok' if max_error(mat_grad, num_grad) < 1e-4 else 'ошибка оч большая =(')\n"
      ],
      "execution_count": null,
      "outputs": []
    },
    {
      "cell_type": "code",
      "metadata": {
        "pycharm": {
          "is_executing": true
        },
        "id": "G4Y5uMFOfapJ"
      },
      "source": [
        ""
      ],
      "execution_count": null,
      "outputs": []
    },
    {
      "cell_type": "code",
      "metadata": {
        "pycharm": {
          "is_executing": true
        },
        "id": "s0bNd_GIfapJ"
      },
      "source": [
        ""
      ],
      "execution_count": null,
      "outputs": []
    },
    {
      "cell_type": "code",
      "metadata": {
        "pycharm": {
          "is_executing": true
        },
        "id": "_WZObVaIfapJ"
      },
      "source": [
        ""
      ],
      "execution_count": null,
      "outputs": []
    },
    {
      "cell_type": "code",
      "metadata": {
        "pycharm": {
          "is_executing": true
        },
        "id": "ch_AjlmHfapK"
      },
      "source": [
        ""
      ],
      "execution_count": null,
      "outputs": []
    },
    {
      "cell_type": "code",
      "metadata": {
        "pycharm": {
          "is_executing": true
        },
        "id": "3vzSv4gVfapK"
      },
      "source": [
        ""
      ],
      "execution_count": null,
      "outputs": []
    }
  ]
}